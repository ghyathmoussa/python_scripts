{
 "cells": [
  {
   "cell_type": "code",
   "execution_count": null,
   "id": "6459676c",
   "metadata": {},
   "outputs": [],
   "source": []
  },
  {
   "cell_type": "code",
   "execution_count": 4,
   "id": "78ebbf13",
   "metadata": {},
   "outputs": [],
   "source": [
    "first = 8\n"
   ]
  },
  {
   "cell_type": "code",
   "execution_count": 5,
   "id": "fdff35a7",
   "metadata": {},
   "outputs": [
    {
     "data": {
      "text/plain": [
       "13"
      ]
     },
     "execution_count": 5,
     "metadata": {},
     "output_type": "execute_result"
    }
   ],
   "source": [
    "first + 5 "
   ]
  },
  {
   "cell_type": "code",
   "execution_count": 7,
   "id": "f74041d2",
   "metadata": {},
   "outputs": [],
   "source": [
    "name = 'Ghyath'"
   ]
  },
  {
   "cell_type": "code",
   "execution_count": 10,
   "id": "58ed08c1",
   "metadata": {},
   "outputs": [
    {
     "data": {
      "text/plain": [
       "'ghyath'"
      ]
     },
     "execution_count": 10,
     "metadata": {},
     "output_type": "execute_result"
    }
   ],
   "source": [
    "name.lower()"
   ]
  },
  {
   "cell_type": "markdown",
   "id": "dc33d3db",
   "metadata": {},
   "source": [
    "## Calculator\n"
   ]
  },
  {
   "cell_type": "code",
   "execution_count": 11,
   "id": "d968223c",
   "metadata": {},
   "outputs": [],
   "source": [
    "def calculate(a,b,op):\n",
    "    if op == 'add':\n",
    "        return a+b\n",
    "    elif op == 'sub':\n",
    "        return a-b\n",
    "    elif op == 'mul':\n",
    "        return a*b\n",
    "    elif op == 'div':\n",
    "        return a/b\n",
    "    else:\n",
    "        return f'{op} is not from calculator opertations'\n"
   ]
  },
  {
   "cell_type": "code",
   "execution_count": 13,
   "id": "f3106766",
   "metadata": {},
   "outputs": [
    {
     "name": "stdout",
     "output_type": "stream",
     "text": [
      "enter the first numner: 20\n",
      "enter the second number: 10\n",
      "enter operationsmul\n",
      "200\n"
     ]
    }
   ],
   "source": [
    "a = int(input('enter the first numner: '))\n",
    "b = int(input('enter the second number: '))\n",
    "op = input('enter operations')\n",
    "\n",
    "print(calculate(a,b,op))"
   ]
  }
 ],
 "metadata": {
  "kernelspec": {
   "display_name": "Python 3 (ipykernel)",
   "language": "python",
   "name": "python3"
  },
  "language_info": {
   "codemirror_mode": {
    "name": "ipython",
    "version": 3
   },
   "file_extension": ".py",
   "mimetype": "text/x-python",
   "name": "python",
   "nbconvert_exporter": "python",
   "pygments_lexer": "ipython3",
   "version": "3.9.7"
  }
 },
 "nbformat": 4,
 "nbformat_minor": 5
}

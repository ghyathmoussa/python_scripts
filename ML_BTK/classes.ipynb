{
 "cells": [
  {
   "cell_type": "markdown",
   "id": "8821156e",
   "metadata": {},
   "source": [
    "## instence && attribute\n"
   ]
  },
  {
   "cell_type": "code",
   "execution_count": 3,
   "id": "2ad99918",
   "metadata": {},
   "outputs": [],
   "source": [
    "class SuperKahraman():\n",
    "    \n",
    "    def __init__(self,name,age,job):\n",
    "        self.name = name\n",
    "        self.age = age\n",
    "        self.job = job\n",
    "    def ornekMetod(self):\n",
    "        print('example method')\n",
    "    "
   ]
  },
  {
   "cell_type": "code",
   "execution_count": 4,
   "id": "416e8a7c",
   "metadata": {},
   "outputs": [],
   "source": [
    "superman = SuperKahraman('superman',30,'Avanger')"
   ]
  },
  {
   "cell_type": "code",
   "execution_count": 5,
   "id": "70954b5c",
   "metadata": {},
   "outputs": [
    {
     "data": {
      "text/plain": [
       "30"
      ]
     },
     "execution_count": 5,
     "metadata": {},
     "output_type": "execute_result"
    }
   ],
   "source": [
    "superman.age"
   ]
  },
  {
   "cell_type": "code",
   "execution_count": 6,
   "id": "9cfb9119",
   "metadata": {},
   "outputs": [
    {
     "name": "stdout",
     "output_type": "stream",
     "text": [
      "example method\n"
     ]
    }
   ],
   "source": [
    "superman.ornekMetod()"
   ]
  },
  {
   "cell_type": "code",
   "execution_count": null,
   "id": "142e54d5",
   "metadata": {},
   "outputs": [],
   "source": [
    " "
   ]
  }
 ],
 "metadata": {
  "kernelspec": {
   "display_name": "Python 3 (ipykernel)",
   "language": "python",
   "name": "python3"
  },
  "language_info": {
   "codemirror_mode": {
    "name": "ipython",
    "version": 3
   },
   "file_extension": ".py",
   "mimetype": "text/x-python",
   "name": "python",
   "nbconvert_exporter": "python",
   "pygments_lexer": "ipython3",
   "version": "3.9.7"
  }
 },
 "nbformat": 4,
 "nbformat_minor": 5
}

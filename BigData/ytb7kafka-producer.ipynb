{
 "cells": [
  {
   "cell_type": "code",
   "execution_count": 0,
   "metadata": {
    "application/vnd.databricks.v1+cell": {
     "inputWidgets": {},
     "nuid": "64d973dc-af6e-49c0-b23a-4bd9397b82c6",
     "showTitle": false,
     "title": ""
    }
   },
   "outputs": [
    {
     "data": {
      "text/plain": [
       "Collecting kafka-python\r\n",
       "  Downloading kafka_python-2.0.2-py2.py3-none-any.whl (246 kB)\r\n",
       "\u001b[?25l\r",
       "\u001b[K     |█▎                              | 10 kB 23.9 MB/s eta 0:00:01\r",
       "\u001b[K     |██▋                             | 20 kB 20.8 MB/s eta 0:00:01\r",
       "\u001b[K     |████                            | 30 kB 10.5 MB/s eta 0:00:01\r",
       "\u001b[K     |█████▎                          | 40 kB 8.5 MB/s eta 0:00:01\r",
       "\u001b[K     |██████▋                         | 51 kB 5.2 MB/s eta 0:00:01\r",
       "\u001b[K     |████████                        | 61 kB 6.1 MB/s eta 0:00:01\r",
       "\u001b[K     |█████████▎                      | 71 kB 6.0 MB/s eta 0:00:01\r",
       "\u001b[K     |██████████▋                     | 81 kB 6.0 MB/s eta 0:00:01\r",
       "\u001b[K     |████████████                    | 92 kB 6.6 MB/s eta 0:00:01\r",
       "\u001b[K     |█████████████▎                  | 102 kB 5.4 MB/s eta 0:00:01\r",
       "\u001b[K     |██████████████▋                 | 112 kB 5.4 MB/s eta 0:00:01\r",
       "\u001b[K     |████████████████                | 122 kB 5.4 MB/s eta 0:00:01\r",
       "\u001b[K     |█████████████████▎              | 133 kB 5.4 MB/s eta 0:00:01\r",
       "\u001b[K     |██████████████████▋             | 143 kB 5.4 MB/s eta 0:00:01\r",
       "\u001b[K     |████████████████████            | 153 kB 5.4 MB/s eta 0:00:01\r",
       "\u001b[K     |█████████████████████▎          | 163 kB 5.4 MB/s eta 0:00:01\r",
       "\u001b[K     |██████████████████████▋         | 174 kB 5.4 MB/s eta 0:00:01\r",
       "\u001b[K     |████████████████████████        | 184 kB 5.4 MB/s eta 0:00:01\r",
       "\u001b[K     |█████████████████████████▎      | 194 kB 5.4 MB/s eta 0:00:01\r",
       "\u001b[K     |██████████████████████████▋     | 204 kB 5.4 MB/s eta 0:00:01\r",
       "\u001b[K     |████████████████████████████    | 215 kB 5.4 MB/s eta 0:00:01\r",
       "\u001b[K     |█████████████████████████████▎  | 225 kB 5.4 MB/s eta 0:00:01\r",
       "\u001b[K     |██████████████████████████████▋ | 235 kB 5.4 MB/s eta 0:00:01\r",
       "\u001b[K     |████████████████████████████████| 245 kB 5.4 MB/s eta 0:00:01\r",
       "\u001b[K     |████████████████████████████████| 246 kB 5.4 MB/s \r\n",
       "\u001b[?25hInstalling collected packages: kafka-python\r\n",
       "Successfully installed kafka-python-2.0.2\r\n",
       "\u001b[33mWARNING: You are using pip version 21.0.1; however, version 22.0.3 is available.\r\n",
       "You should consider upgrading via the '/databricks/python3/bin/python -m pip install --upgrade pip' command.\u001b[0m\r\n"
      ]
     },
     "metadata": {
      "application/vnd.databricks.v1+output": {
       "addedWidgets": {},
       "arguments": {},
       "data": "Collecting kafka-python\r\n  Downloading kafka_python-2.0.2-py2.py3-none-any.whl (246 kB)\r\n\u001b[?25l\r\u001b[K     |█▎                              | 10 kB 23.9 MB/s eta 0:00:01\r\u001b[K     |██▋                             | 20 kB 20.8 MB/s eta 0:00:01\r\u001b[K     |████                            | 30 kB 10.5 MB/s eta 0:00:01\r\u001b[K     |█████▎                          | 40 kB 8.5 MB/s eta 0:00:01\r\u001b[K     |██████▋                         | 51 kB 5.2 MB/s eta 0:00:01\r\u001b[K     |████████                        | 61 kB 6.1 MB/s eta 0:00:01\r\u001b[K     |█████████▎                      | 71 kB 6.0 MB/s eta 0:00:01\r\u001b[K     |██████████▋                     | 81 kB 6.0 MB/s eta 0:00:01\r\u001b[K     |████████████                    | 92 kB 6.6 MB/s eta 0:00:01\r\u001b[K     |█████████████▎                  | 102 kB 5.4 MB/s eta 0:00:01\r\u001b[K     |██████████████▋                 | 112 kB 5.4 MB/s eta 0:00:01\r\u001b[K     |████████████████                | 122 kB 5.4 MB/s eta 0:00:01\r\u001b[K     |█████████████████▎              | 133 kB 5.4 MB/s eta 0:00:01\r\u001b[K     |██████████████████▋             | 143 kB 5.4 MB/s eta 0:00:01\r\u001b[K     |████████████████████            | 153 kB 5.4 MB/s eta 0:00:01\r\u001b[K     |█████████████████████▎          | 163 kB 5.4 MB/s eta 0:00:01\r\u001b[K     |██████████████████████▋         | 174 kB 5.4 MB/s eta 0:00:01\r\u001b[K     |████████████████████████        | 184 kB 5.4 MB/s eta 0:00:01\r\u001b[K     |█████████████████████████▎      | 194 kB 5.4 MB/s eta 0:00:01\r\u001b[K     |██████████████████████████▋     | 204 kB 5.4 MB/s eta 0:00:01\r\u001b[K     |████████████████████████████    | 215 kB 5.4 MB/s eta 0:00:01\r\u001b[K     |█████████████████████████████▎  | 225 kB 5.4 MB/s eta 0:00:01\r\u001b[K     |██████████████████████████████▋ | 235 kB 5.4 MB/s eta 0:00:01\r\u001b[K     |████████████████████████████████| 245 kB 5.4 MB/s eta 0:00:01\r\u001b[K     |████████████████████████████████| 246 kB 5.4 MB/s \r\n\u001b[?25hInstalling collected packages: kafka-python\r\nSuccessfully installed kafka-python-2.0.2\r\n\u001b[33mWARNING: You are using pip version 21.0.1; however, version 22.0.3 is available.\r\nYou should consider upgrading via the '/databricks/python3/bin/python -m pip install --upgrade pip' command.\u001b[0m\r\n",
       "datasetInfos": [],
       "metadata": {},
       "removedWidgets": [],
       "type": "ansi"
      }
     },
     "output_type": "display_data"
    }
   ],
   "source": [
    "!pip install kafka-python"
   ]
  },
  {
   "cell_type": "code",
   "execution_count": 0,
   "metadata": {
    "application/vnd.databricks.v1+cell": {
     "inputWidgets": {},
     "nuid": "cf431010-36f3-4299-b0c8-1617623b9590",
     "showTitle": false,
     "title": ""
    }
   },
   "outputs": [],
   "source": [
    "from kafka import KafkaProducer"
   ]
  },
  {
   "cell_type": "code",
   "execution_count": 0,
   "metadata": {
    "application/vnd.databricks.v1+cell": {
     "inputWidgets": {},
     "nuid": "dbbbf5b4-d9fd-4951-8b48-0dd925e50136",
     "showTitle": false,
     "title": ""
    }
   },
   "outputs": [],
   "source": [
    "producer = KafkaProducer(bootstrap_servers=\"137.184.213.30:9092\")"
   ]
  },
  {
   "cell_type": "code",
   "execution_count": 0,
   "metadata": {
    "application/vnd.databricks.v1+cell": {
     "inputWidgets": {},
     "nuid": "2b93af2b-6ce2-4764-b428-248f274af709",
     "showTitle": false,
     "title": ""
    }
   },
   "outputs": [
    {
     "data": {
      "text/plain": [
       "Out[7]: <kafka.producer.future.FutureRecordMetadata at 0x7ff4111ba460>"
      ]
     },
     "metadata": {
      "application/vnd.databricks.v1+output": {
       "addedWidgets": {},
       "arguments": {},
       "data": "Out[7]: <kafka.producer.future.FutureRecordMetadata at 0x7ff4111ba460>",
       "datasetInfos": [],
       "metadata": {},
       "removedWidgets": [],
       "type": "ansi"
      }
     },
     "output_type": "display_data"
    }
   ],
   "source": [
    "producer.send(\"ytb7items\",\"{'id':8522,'name':'Iphone XS Max','country':'USA'}\".encode())"
   ]
  },
  {
   "cell_type": "code",
   "execution_count": 0,
   "metadata": {
    "application/vnd.databricks.v1+cell": {
     "inputWidgets": {},
     "nuid": "b7930368-44c3-43ca-9ab6-55251007ee57",
     "showTitle": false,
     "title": ""
    }
   },
   "outputs": [
    {
     "data": {
      "text/html": [
       "<style scoped>\n",
       "  .ansiout {\n",
       "    display: block;\n",
       "    unicode-bidi: embed;\n",
       "    white-space: pre-wrap;\n",
       "    word-wrap: break-word;\n",
       "    word-break: break-all;\n",
       "    font-family: \"Source Code Pro\", \"Menlo\", monospace;;\n",
       "    font-size: 13px;\n",
       "    color: #555;\n",
       "    margin-left: 4px;\n",
       "    line-height: 19px;\n",
       "  }\n",
       "</style>"
      ]
     },
     "metadata": {
      "application/vnd.databricks.v1+output": {
       "arguments": {},
       "data": "",
       "errorSummary": "",
       "errorTraceType": null,
       "metadata": {},
       "type": "ipynbError"
      }
     },
     "output_type": "display_data"
    }
   ],
   "source": []
  }
 ],
 "metadata": {
  "application/vnd.databricks.v1+notebook": {
   "dashboards": [],
   "language": "python",
   "notebookMetadata": {
    "pythonIndentUnit": 2
   },
   "notebookName": "ytb7kafka-producer",
   "notebookOrigID": 3340646294628469,
   "widgets": {}
  },
  "kernelspec": {
   "display_name": "Python 3 (ipykernel)",
   "language": "python",
   "name": "python3"
  },
  "language_info": {
   "codemirror_mode": {
    "name": "ipython",
    "version": 3
   },
   "file_extension": ".py",
   "mimetype": "text/x-python",
   "name": "python",
   "nbconvert_exporter": "python",
   "pygments_lexer": "ipython3",
   "version": "3.9.7"
  }
 },
 "nbformat": 4,
 "nbformat_minor": 1
}

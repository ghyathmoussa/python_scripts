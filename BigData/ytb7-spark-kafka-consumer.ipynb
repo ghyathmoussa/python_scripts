{
 "cells": [
  {
   "cell_type": "code",
   "execution_count": 0,
   "metadata": {
    "application/vnd.databricks.v1+cell": {
     "inputWidgets": {},
     "nuid": "672eb231-6b3c-49a9-96f3-46382e05390a",
     "showTitle": false,
     "title": ""
    }
   },
   "outputs": [],
   "source": [
    "from pyspark.sql import SparkSession"
   ]
  },
  {
   "cell_type": "code",
   "execution_count": 0,
   "metadata": {
    "application/vnd.databricks.v1+cell": {
     "inputWidgets": {},
     "nuid": "653a00bf-f42f-4c08-9d13-ae1c6bfb2100",
     "showTitle": false,
     "title": ""
    }
   },
   "outputs": [],
   "source": [
    "sparkSession = SparkSession.builder.appName(\"YTB7 Spark Kafka Consumer\").getOrCreate()"
   ]
  },
  {
   "cell_type": "code",
   "execution_count": 0,
   "metadata": {
    "application/vnd.databricks.v1+cell": {
     "inputWidgets": {},
     "nuid": "c77c7ed5-8ce3-46e9-b4e6-6f8653b33617",
     "showTitle": false,
     "title": ""
    }
   },
   "outputs": [],
   "source": [
    "rawDF = sparkSession.read.format(\"kafka\").option(\"kafka.bootstrap.servers\",\"137.184.213.30:9092\") \\\n",
    "                                         .option(\"subscribe\",\"ytb7items\") \\\n",
    "                                         .option(\"startingOffsets\",\"earliest\").load()"
   ]
  },
  {
   "cell_type": "code",
   "execution_count": 0,
   "metadata": {
    "application/vnd.databricks.v1+cell": {
     "inputWidgets": {},
     "nuid": "02e917c2-9b71-4d72-b8b2-76b47f0febde",
     "showTitle": false,
     "title": ""
    }
   },
   "outputs": [
    {
     "data": {
      "text/plain": [
       "+----+--------------------+----------+---------+------+--------------------+-------------+\n",
       "| key|               value|     topic|partition|offset|           timestamp|timestampType|\n",
       "+----+--------------------+----------+---------+------+--------------------+-------------+\n",
       "|null|[7B 22 6E 61 6D 6...|ytb7person|        0|     0|2022-03-05 07:53:...|            0|\n",
       "|null|[7B 22 6E 61 6D 6...|ytb7person|        2|     0|2022-03-05 07:54:...|            0|\n",
       "|null|[7B 22 6E 61 6D 6...|ytb7person|        1|     0|2022-03-05 07:53:...|            0|\n",
       "+----+--------------------+----------+---------+------+--------------------+-------------+\n",
       "\n"
      ]
     },
     "metadata": {
      "application/vnd.databricks.v1+output": {
       "addedWidgets": {},
       "arguments": {},
       "data": "+----+--------------------+----------+---------+------+--------------------+-------------+\n| key|               value|     topic|partition|offset|           timestamp|timestampType|\n+----+--------------------+----------+---------+------+--------------------+-------------+\n|null|[7B 22 6E 61 6D 6...|ytb7person|        0|     0|2022-03-05 07:53:...|            0|\n|null|[7B 22 6E 61 6D 6...|ytb7person|        2|     0|2022-03-05 07:54:...|            0|\n|null|[7B 22 6E 61 6D 6...|ytb7person|        1|     0|2022-03-05 07:53:...|            0|\n+----+--------------------+----------+---------+------+--------------------+-------------+\n\n",
       "datasetInfos": [],
       "metadata": {},
       "removedWidgets": [],
       "type": "ansi"
      }
     },
     "output_type": "display_data"
    }
   ],
   "source": [
    "rawDF.show()"
   ]
  },
  {
   "cell_type": "code",
   "execution_count": 0,
   "metadata": {
    "application/vnd.databricks.v1+cell": {
     "inputWidgets": {},
     "nuid": "46bc5aad-ced1-4e2c-9da8-023e449cc078",
     "showTitle": false,
     "title": ""
    }
   },
   "outputs": [],
   "source": [
    "from pyspark.sql.types import *\n",
    "from pyspark.sql.functions import *"
   ]
  },
  {
   "cell_type": "code",
   "execution_count": 0,
   "metadata": {
    "application/vnd.databricks.v1+cell": {
     "inputWidgets": {},
     "nuid": "ab1fd528-f679-4ac8-923d-f8aeb6af3a4e",
     "showTitle": false,
     "title": ""
    }
   },
   "outputs": [],
   "source": [
    "schema = StructType() \\\n",
    "        .add(\"id\",IntegerType()) \\\n",
    "        .add(\"name\",StringType()) \\\n",
    "        .add(\"country\",StringType())"
   ]
  },
  {
   "cell_type": "code",
   "execution_count": 0,
   "metadata": {
    "application/vnd.databricks.v1+cell": {
     "inputWidgets": {},
     "nuid": "16f7daf4-ce43-4b67-bc15-5f0bb7d8a770",
     "showTitle": false,
     "title": ""
    }
   },
   "outputs": [],
   "source": [
    "kafkaDF = rawDF.select(from_json(col(\"value\").cast(\"string\"),schema).alias(\"data\"),\"timestamp\").select(\"data.*\",\"timestamp\")"
   ]
  },
  {
   "cell_type": "code",
   "execution_count": 1,
   "metadata": {
    "application/vnd.databricks.v1+cell": {
     "inputWidgets": {},
     "nuid": "c7f59664-5136-49f8-8ce2-fc5b01dcb248",
     "showTitle": false,
     "title": ""
    }
   },
   "outputs": [
    {
     "ename": "NameError",
     "evalue": "name 'kafkaDF' is not defined",
     "output_type": "error",
     "traceback": [
      "\u001b[1;31m---------------------------------------------------------------------------\u001b[0m",
      "\u001b[1;31mNameError\u001b[0m                                 Traceback (most recent call last)",
      "\u001b[1;32m~\\AppData\\Local\\Temp/ipykernel_17908/996356129.py\u001b[0m in \u001b[0;36m<module>\u001b[1;34m\u001b[0m\n\u001b[1;32m----> 1\u001b[1;33m \u001b[0mkafkaDF\u001b[0m\u001b[1;33m.\u001b[0m\u001b[0mgroupBy\u001b[0m\u001b[1;33m(\u001b[0m\u001b[1;34m\"country\"\u001b[0m\u001b[1;33m)\u001b[0m\u001b[1;33m.\u001b[0m\u001b[0mcount\u001b[0m\u001b[1;33m(\u001b[0m\u001b[1;33m)\u001b[0m\u001b[1;33m\u001b[0m\u001b[1;33m\u001b[0m\u001b[0m\n\u001b[0m",
      "\u001b[1;31mNameError\u001b[0m: name 'kafkaDF' is not defined"
     ]
    }
   ],
   "source": [
    "kafkaDF.groupBy(\"country\").count()"
   ]
  },
  {
   "cell_type": "code",
   "execution_count": 0,
   "metadata": {
    "application/vnd.databricks.v1+cell": {
     "inputWidgets": {},
     "nuid": "9dadc9a6-1a83-4172-9aad-d3b06343ac41",
     "showTitle": false,
     "title": ""
    }
   },
   "outputs": [
    {
     "data": {
      "text/html": [
       "<style scoped>\n",
       "  .ansiout {\n",
       "    display: block;\n",
       "    unicode-bidi: embed;\n",
       "    white-space: pre-wrap;\n",
       "    word-wrap: break-word;\n",
       "    word-break: break-all;\n",
       "    font-family: \"Source Code Pro\", \"Menlo\", monospace;;\n",
       "    font-size: 13px;\n",
       "    color: #555;\n",
       "    margin-left: 4px;\n",
       "    line-height: 19px;\n",
       "  }\n",
       "</style>"
      ]
     },
     "metadata": {
      "application/vnd.databricks.v1+output": {
       "arguments": {},
       "data": "",
       "errorSummary": "",
       "errorTraceType": null,
       "metadata": {},
       "type": "ipynbError"
      }
     },
     "output_type": "display_data"
    }
   ],
   "source": [
    "kafkaDF.write.format(\"kafka\")"
   ]
  }
 ],
 "metadata": {
  "application/vnd.databricks.v1+notebook": {
   "dashboards": [],
   "language": "python",
   "notebookMetadata": {
    "pythonIndentUnit": 2
   },
   "notebookName": "ytb7-spark-kafka-consumer",
   "notebookOrigID": 3340646294628459,
   "widgets": {}
  },
  "kernelspec": {
   "display_name": "Python 3 (ipykernel)",
   "language": "python",
   "name": "python3"
  },
  "language_info": {
   "codemirror_mode": {
    "name": "ipython",
    "version": 3
   },
   "file_extension": ".py",
   "mimetype": "text/x-python",
   "name": "python",
   "nbconvert_exporter": "python",
   "pygments_lexer": "ipython3",
   "version": "3.9.7"
  }
 },
 "nbformat": 4,
 "nbformat_minor": 1
}

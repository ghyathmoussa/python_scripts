{
 "cells": [
  {
   "cell_type": "markdown",
   "id": "65eef5d5",
   "metadata": {},
   "source": [
    "## python ile mongo DB integration\n"
   ]
  },
  {
   "cell_type": "code",
   "execution_count": 1,
   "id": "ca400a25",
   "metadata": {},
   "outputs": [
    {
     "name": "stdout",
     "output_type": "stream",
     "text": [
      "Collecting pymongo\n",
      "  Downloading pymongo-4.0.1-cp39-cp39-win_amd64.whl (354 kB)\n",
      "Installing collected packages: pymongo\n",
      "Successfully installed pymongo-4.0.1\n"
     ]
    }
   ],
   "source": [
    "!python -m pip install pymongo\n"
   ]
  },
  {
   "cell_type": "code",
   "execution_count": 2,
   "id": "5aa55c10",
   "metadata": {},
   "outputs": [
    {
     "name": "stdout",
     "output_type": "stream",
     "text": [
      "Collecting dnspython\n",
      "  Downloading dnspython-2.2.0-py3-none-any.whl (266 kB)\n",
      "Installing collected packages: dnspython\n",
      "Successfully installed dnspython-2.2.0\n"
     ]
    }
   ],
   "source": [
    "!python -m pip install dnspython"
   ]
  },
  {
   "cell_type": "code",
   "execution_count": 3,
   "id": "49b5ecf3",
   "metadata": {},
   "outputs": [
    {
     "name": "stdout",
     "output_type": "stream",
     "text": [
      "Requirement already satisfied: pymongo[srv] in d:\\programs\\anaconda\\lib\\site-packages (4.0.1)\n",
      "Requirement already satisfied: dnspython<3.0.0,>=1.16.0 in d:\\programs\\anaconda\\lib\\site-packages (from pymongo[srv]) (2.2.0)\n"
     ]
    }
   ],
   "source": [
    "!pip3 install pymongo[srv]"
   ]
  },
  {
   "cell_type": "code",
   "execution_count": 4,
   "id": "5b3cddaf",
   "metadata": {},
   "outputs": [
    {
     "name": "stdout",
     "output_type": "stream",
     "text": [
      "Requirement already satisfied: pymongo[tls] in d:\\programs\\anaconda\\lib\\site-packages (4.0.1)\n"
     ]
    },
    {
     "name": "stderr",
     "output_type": "stream",
     "text": [
      "WARNING: pymongo 4.0.1 does not provide the extra 'tls'\n"
     ]
    }
   ],
   "source": [
    "!pip3 install pymongo[tls]"
   ]
  },
  {
   "cell_type": "code",
   "execution_count": 5,
   "id": "81994bec",
   "metadata": {},
   "outputs": [],
   "source": [
    "from pymongo import MongoClient\n",
    "import pymongo as pym"
   ]
  },
  {
   "cell_type": "code",
   "execution_count": 22,
   "id": "0367f623",
   "metadata": {},
   "outputs": [],
   "source": [
    "def getDB():\n",
    "    connection_string = 'mongodb+srv://ghyath:<199911Gh!>@ytb-bigdata.6unkk.mongodb.net/myFirstDatabase?retryWrites=true&w=majority'\n",
    "    db = MongoClient(connection_string)\n",
    "    return db"
   ]
  },
  {
   "cell_type": "code",
   "execution_count": 23,
   "id": "4048bf41",
   "metadata": {},
   "outputs": [],
   "source": [
    "if __name__ == '__main__':\n",
    "    getDB()"
   ]
  },
  {
   "cell_type": "code",
   "execution_count": 13,
   "id": "3fcd2381",
   "metadata": {},
   "outputs": [],
   "source": [
    "\n",
    "\n",
    "orr1 = {\n",
    "    \"name\": \"temp\",\n",
    "    \"surname\":\"temp\"\n",
    "}"
   ]
  },
  {
   "cell_type": "markdown",
   "id": "bedc1542",
   "metadata": {},
   "source": [
    "## save csv to mongoDB by python"
   ]
  },
  {
   "cell_type": "code",
   "execution_count": 21,
   "id": "f0115116",
   "metadata": {},
   "outputs": [
    {
     "data": {
      "text/plain": [
       "pandas.core.series.Series"
      ]
     },
     "execution_count": 21,
     "metadata": {},
     "output_type": "execute_result"
    }
   ],
   "source": [
    "import pandas as pd\n",
    "\n",
    "data = pd.read_csv('train.csv')\n",
    "\n",
    "type(data['date'])"
   ]
  },
  {
   "cell_type": "code",
   "execution_count": 16,
   "id": "8506d48d",
   "metadata": {},
   "outputs": [
    {
     "data": {
      "text/plain": [
       "pandas.core.frame.DataFrame"
      ]
     },
     "execution_count": 16,
     "metadata": {},
     "output_type": "execute_result"
    }
   ],
   "source": []
  },
  {
   "cell_type": "code",
   "execution_count": null,
   "id": "03ed6a43",
   "metadata": {},
   "outputs": [],
   "source": []
  }
 ],
 "metadata": {
  "kernelspec": {
   "display_name": "Python 3 (ipykernel)",
   "language": "python",
   "name": "python3"
  },
  "language_info": {
   "codemirror_mode": {
    "name": "ipython",
    "version": 3
   },
   "file_extension": ".py",
   "mimetype": "text/x-python",
   "name": "python",
   "nbconvert_exporter": "python",
   "pygments_lexer": "ipython3",
   "version": "3.9.7"
  }
 },
 "nbformat": 4,
 "nbformat_minor": 5
}

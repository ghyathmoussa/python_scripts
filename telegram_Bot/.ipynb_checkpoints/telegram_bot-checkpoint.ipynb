{
 "cells": [
  {
   "cell_type": "code",
   "execution_count": 1,
   "id": "45c1865c",
   "metadata": {},
   "outputs": [
    {
     "name": "stdout",
     "output_type": "stream",
     "text": [
      "Collecting telegram\n",
      "  Downloading telegram-0.0.1.tar.gz (879 bytes)\n",
      "Building wheels for collected packages: telegram\n",
      "  Building wheel for telegram (setup.py): started\n",
      "  Building wheel for telegram (setup.py): finished with status 'done'\n",
      "  Created wheel for telegram: filename=telegram-0.0.1-py3-none-any.whl size=1307 sha256=3dbb5ed993fbce4b1583dc78161abcda57710fb0d9afe738e80da3a951b37449\n",
      "  Stored in directory: c:\\users\\ghyat\\appdata\\local\\pip\\cache\\wheels\\11\\7a\\5d\\62391dcb6b9a45247192c3a711bf03ed513c14218a8b275a63\n",
      "Successfully built telegram\n",
      "Installing collected packages: telegram\n",
      "Successfully installed telegram-0.0.1\n"
     ]
    }
   ],
   "source": [
    "!pip install telegram"
   ]
  },
  {
   "cell_type": "code",
   "execution_count": null,
   "id": "23545172",
   "metadata": {},
   "outputs": [],
   "source": [
    "from telegram import *\n",
    "from telegram.ext import "
   ]
  }
 ],
 "metadata": {
  "kernelspec": {
   "display_name": "Python 3 (ipykernel)",
   "language": "python",
   "name": "python3"
  },
  "language_info": {
   "codemirror_mode": {
    "name": "ipython",
    "version": 3
   },
   "file_extension": ".py",
   "mimetype": "text/x-python",
   "name": "python",
   "nbconvert_exporter": "python",
   "pygments_lexer": "ipython3",
   "version": "3.9.7"
  }
 },
 "nbformat": 4,
 "nbformat_minor": 5
}

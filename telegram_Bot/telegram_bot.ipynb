{
 "cells": [
  {
   "cell_type": "code",
   "execution_count": 1,
   "id": "45c1865c",
   "metadata": {},
   "outputs": [],
   "source": [
    "API_KEY = '5415277852:AAHCJj5fbXBmBOeRot_gFkq1BH3OLU3gYjc'"
   ]
  },
  {
   "cell_type": "code",
   "execution_count": 2,
   "id": "b1a55c52",
   "metadata": {},
   "outputs": [],
   "source": [
    "from datetime import datetime\n",
    "\n",
    "def response_(in_text):\n",
    "    user_message = str(in_text).lower()\n",
    "    \n",
    "    if in_text in ['hello','hi','sup']:\n",
    "        return 'Hi! dear!!'\n",
    "    \n",
    "    if in_text in ['who are you','can ypu help me']:\n",
    "        return 'I am bot, how can I help you? press start/'\n",
    "    \n",
    "    if in_text in ['tiem','time?','date?']:\n",
    "        now = datetime.now()\n",
    "        date_time = now.strtime('%d/%m/%y, %H:%M:%S')\n",
    "        \n",
    "        return date_time\n",
    "    \n",
    "    return 'Please write a human sentances!!'"
   ]
  },
  {
   "cell_type": "code",
   "execution_count": 3,
   "id": "182a9ae8",
   "metadata": {},
   "outputs": [
    {
     "name": "stdout",
     "output_type": "stream",
     "text": [
      "Requirement already satisfied: python-telegram-bot in c:\\users\\ghyat\\anaconda3\\lib\\site-packages (13.12)\n",
      "Requirement already satisfied: APScheduler==3.6.3 in c:\\users\\ghyat\\anaconda3\\lib\\site-packages (from python-telegram-bot) (3.6.3)\n",
      "Requirement already satisfied: tornado>=6.1 in c:\\users\\ghyat\\anaconda3\\lib\\site-packages (from python-telegram-bot) (6.1)\n",
      "Requirement already satisfied: cachetools==4.2.2 in c:\\users\\ghyat\\anaconda3\\lib\\site-packages (from python-telegram-bot) (4.2.2)\n",
      "Requirement already satisfied: pytz>=2018.6 in c:\\users\\ghyat\\anaconda3\\lib\\site-packages (from python-telegram-bot) (2021.3)\n",
      "Requirement already satisfied: certifi in c:\\users\\ghyat\\anaconda3\\lib\\site-packages (from python-telegram-bot) (2021.10.8)\n",
      "Requirement already satisfied: tzlocal>=1.2 in c:\\users\\ghyat\\anaconda3\\lib\\site-packages (from APScheduler==3.6.3->python-telegram-bot) (4.2)\n",
      "Requirement already satisfied: setuptools>=0.7 in c:\\users\\ghyat\\anaconda3\\lib\\site-packages (from APScheduler==3.6.3->python-telegram-bot) (58.0.4)\n",
      "Requirement already satisfied: six>=1.4.0 in c:\\users\\ghyat\\anaconda3\\lib\\site-packages (from APScheduler==3.6.3->python-telegram-bot) (1.16.0)\n",
      "Requirement already satisfied: pytz-deprecation-shim in c:\\users\\ghyat\\anaconda3\\lib\\site-packages (from tzlocal>=1.2->APScheduler==3.6.3->python-telegram-bot) (0.1.0.post0)\n",
      "Requirement already satisfied: tzdata in c:\\users\\ghyat\\anaconda3\\lib\\site-packages (from tzlocal>=1.2->APScheduler==3.6.3->python-telegram-bot) (2022.1)\n"
     ]
    }
   ],
   "source": [
    "!pip install python-telegram-bot"
   ]
  },
  {
   "cell_type": "code",
   "execution_count": null,
   "id": "2770bd28",
   "metadata": {},
   "outputs": [],
   "source": [
    "from telegram.ext import *\n",
    "\n",
    "## start commands\n",
    "\n",
    "def start_command(update,context):\n",
    "    update.message.replay_text('Start now....')\n",
    "    \n",
    "def help_command(update,command):\n",
    "    update.message.replay_text('Please type help/')\n",
    "\n",
    "def handle_message(updat,context):\n",
    "    text=str(update.message.text).lower()\n",
    "    \n",
    "    response = response_(text)\n",
    "    \n",
    "    update.message.replay_text(response)\n",
    "    \n",
    "def handle_error(update,context):\n",
    "    print(f'update {update}')"
   ]
  },
  {
   "cell_type": "code",
   "execution_count": null,
   "id": "6f75c131",
   "metadata": {},
   "outputs": [],
   "source": []
  }
 ],
 "metadata": {
  "kernelspec": {
   "display_name": "Python 3 (ipykernel)",
   "language": "python",
   "name": "python3"
  },
  "language_info": {
   "codemirror_mode": {
    "name": "ipython",
    "version": 3
   },
   "file_extension": ".py",
   "mimetype": "text/x-python",
   "name": "python",
   "nbconvert_exporter": "python",
   "pygments_lexer": "ipython3",
   "version": "3.9.7"
  }
 },
 "nbformat": 4,
 "nbformat_minor": 5
}
